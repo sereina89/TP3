{
 "metadata": {
  "language_info": {
   "codemirror_mode": {
    "name": "ipython",
    "version": 3
   },
   "file_extension": ".py",
   "mimetype": "text/x-python",
   "name": "python",
   "nbconvert_exporter": "python",
   "pygments_lexer": "ipython3",
   "version": "3.6.9-final"
  },
  "orig_nbformat": 2,
  "kernelspec": {
   "name": "python_defaultSpec_1601307499483",
   "display_name": "Python 3.6.9 64-bit"
  }
 },
 "nbformat": 4,
 "nbformat_minor": 2,
 "cells": [
  {
   "cell_type": "markdown",
   "metadata": {},
   "source": [
    "# Algorithmes - Initiation à Python\n",
    "\n",
    "## Variables et affectation\n",
    "\n",
    "Dans un programme informatique, on va avoir en permanence besoin de stocker provisoirement des valeurs. Il peut s’agir de données issues du disque dur, fournies par l’utilisateur (frappées au clavier)... Il peut aussi s’agir de résultats obtenus par le programme, intermédiaires ou définitifs. Ces données peuvent être de plusieurs types (on en reparlera) : elles peuvent être des nombres, du texte, etc. Toujours est-il que dès que l’on a besoin de stocker une information au cours d’un programme, on utilise une variable.\n",
    "\n",
    "Pour employer une image, une variable est une boîte, que le programme (l’ordinateur) va repérer par une étiquette. Pour avoir accès au contenu de la boîte, il suffit de la désigner par son étiquette.\n",
    "\n",
    "En pseudo-code, l'instruction d'affectation se note avec le signe ←\n",
    "\n",
    "### Exemple 1 :\n",
    "\n",
    "On considère l’algorithme en langage *naturel* (on parle également de *pseudo-code*) suivant :\n",
    "\n",
    "    x ← 2\n",
    "    y ← 3\n",
    "    z ← x+y\n",
    "    afficher z\n",
    "\n",
    "Sa traduction avec le langage Scracth utilisé au collège est :\n",
    "\n",
    "![scratch](assets/scracth23.png)\n",
    "\n",
    "Quelle est la valeur affichée par cet algorithme ?"
   ]
  },
  {
   "cell_type": "markdown",
   "metadata": {},
   "source": [
    "Réponse :"
   ]
  },
  {
   "cell_type": "markdown",
   "metadata": {},
   "source": [
    "Vérifier votre réponse en exécutant le programme en Python ci-dessous :"
   ]
  },
  {
   "cell_type": "code",
   "execution_count": null,
   "metadata": {
    "tags": []
   },
   "outputs": [],
   "source": [
    "x = 2\n",
    "y = 3\n",
    "z = x + y\n",
    "print(z)"
   ]
  },
  {
   "cell_type": "markdown",
   "metadata": {},
   "source": [
    "Comme vous l'avez remarqué, l'instruction d'affectation en Python se fait avec le signe ="
   ]
  },
  {
   "cell_type": "markdown",
   "metadata": {},
   "source": [
    "### Exemple 2 :\n",
    "\n",
    "Quelle sera la valeur de la variable C affichée après l'exécution du code ci-dessous ?\n",
    "\n",
    "    A ← 5\n",
    "    B ← 3\n",
    "    C ← A + B\n",
    "    A ← 2\n",
    "    C ← B – A"
   ]
  },
  {
   "cell_type": "markdown",
   "metadata": {},
   "source": [
    "Réponse :"
   ]
  },
  {
   "cell_type": "markdown",
   "metadata": {},
   "source": [
    "Vérifier votre réponse en exécutant le programme en Python ci-dessous :"
   ]
  },
  {
   "cell_type": "code",
   "execution_count": null,
   "metadata": {
    "tags": []
   },
   "outputs": [],
   "source": [
    "A = 5\n",
    "B = 3\n",
    "C = A+B\n",
    "A = 2\n",
    "C = B-A\n",
    "print(C)"
   ]
  },
  {
   "cell_type": "markdown",
   "metadata": {},
   "source": [
    "### Exemple 3 :\n",
    "\n",
    "Quelle sera la valeur de la variable B affichée après l'exécution du code ci-dessous ?\n",
    "    \n",
    "    A ← 5\n",
    "    B ← A + 4\n",
    "    A ← A + 1\n",
    "    B ← A – 4"
   ]
  },
  {
   "cell_type": "markdown",
   "metadata": {},
   "source": [
    "Réponse :"
   ]
  },
  {
   "cell_type": "markdown",
   "metadata": {},
   "source": [
    "Vérifier maintenant votre réponse en complétant et exécutant le code Python ci-dessous :"
   ]
  },
  {
   "cell_type": "code",
   "execution_count": null,
   "metadata": {},
   "outputs": [],
   "source": [
    "A = 5\n",
    "..."
   ]
  },
  {
   "cell_type": "markdown",
   "metadata": {},
   "source": [
    "## Opérations numériques\n",
    "\n",
    "Exécuter les codes ci-dessous, et comprendre le résultat affiché "
   ]
  },
  {
   "cell_type": "code",
   "execution_count": null,
   "metadata": {},
   "outputs": [],
   "source": [
    "x = 9\n",
    "x + 2"
   ]
  },
  {
   "cell_type": "code",
   "execution_count": null,
   "metadata": {},
   "outputs": [],
   "source": [
    "x * 3"
   ]
  },
  {
   "cell_type": "code",
   "execution_count": null,
   "metadata": {},
   "outputs": [],
   "source": [
    "y=8\n",
    "(x*10)+y"
   ]
  },
  {
   "cell_type": "markdown",
   "metadata": {},
   "source": [
    "La division se fait avec l'opérateur / "
   ]
  },
  {
   "cell_type": "code",
   "execution_count": null,
   "metadata": {},
   "outputs": [],
   "source": [
    "3/4"
   ]
  },
  {
   "cell_type": "markdown",
   "metadata": {},
   "source": [
    " Contrairement aux opérateurs +, - et *, celui-ci renvoie systématiquement un \"float\" (disons : un nombre à virgule) et non pas un entier :\n"
   ]
  },
  {
   "cell_type": "code",
   "execution_count": null,
   "metadata": {},
   "outputs": [],
   "source": [
    "6/2"
   ]
  },
  {
   "cell_type": "markdown",
   "metadata": {},
   "source": [
    "A quoi voit-on que, dans la mémoire de l'ordinateur, la réponse n'est pas stockée comme un nombre entier ?"
   ]
  },
  {
   "cell_type": "markdown",
   "metadata": {},
   "source": [
    "Réponse : "
   ]
  },
  {
   "cell_type": "markdown",
   "metadata": {},
   "source": [
    "L'opérateur puissance utilise les symboles ** :"
   ]
  },
  {
   "cell_type": "code",
   "execution_count": null,
   "metadata": {},
   "outputs": [],
   "source": [
    "5**2"
   ]
  },
  {
   "cell_type": "markdown",
   "metadata": {},
   "source": [
    "## Instructions conditionnelles\n",
    "\n",
    "Vous avez déjà utilisé des instructions conditionnelles (l'équivalent du \"si... alors....\") avec le logiciel Scratch.\n",
    "\n",
    "![Si alors en Scratch](assets/sialors.png)\n",
    "\n",
    "La syntaxe en Python est la suivante :\n",
    "\n",
    "    if test:\t# ne pas oublier le signe de ponctuation ':'\n",
    "        bloc d'instructions\t# attention à l'indentation\n",
    "    suite du programme\n",
    "\n",
    "Si test est vrai (True) alors le bloc d'instructions est exécuté.\n",
    "Si test est faux (False) on passe directement à la suite du programme.\n",
    "\n",
    "### Exemple 4 :\n",
    "\n",
    "    "
   ]
  },
  {
   "cell_type": "code",
   "execution_count": null,
   "metadata": {},
   "outputs": [],
   "source": [
    "note = float(input(\"Note sur 20 : \"))\n",
    "if note >= 10.0:\n",
    "    # ce bloc est exécuté si l'expression (note >= 10.0) est vraie\n",
    "    print(\"J'ai la moyenne\")"
   ]
  },
  {
   "cell_type": "markdown",
   "metadata": {},
   "source": [
    "On peut ajouter un bloc d'instruction à réaliser quand le test est faux :\n",
    "\n",
    "![Si alors sinon en Scratch](assets/sialorssinon.png)\n",
    "\n",
    "La syntaxe en Python est la suivante :\n",
    "\n",
    "    if test:\t\n",
    "        bloc d'instructions\t\t\n",
    "    else:                  \n",
    "        a faire si le test est faux\n",
    "    suite du programme\n",
    "\n",
    "Si test est vrai (True) alors le bloc d'instructions est exécuté.\n",
    "Si test est faux (False) on passe directement à la suite du programme.\n",
    "\n",
    "Attention aux décalages (indentations) et à ne pas oublier :\n",
    "\n",
    "### Exemple 5 :\n"
   ]
  },
  {
   "cell_type": "code",
   "execution_count": null,
   "metadata": {
    "tags": []
   },
   "outputs": [],
   "source": [
    "note = float(input(\"Note sur 20 : \"))\n",
    "if note >= 10.0:\n",
    "    print(\"J'ai la moyenne\")\n",
    "else :\n",
    "    print(\"Je n'ai pas la moyenne\")"
   ]
  },
  {
   "cell_type": "markdown",
   "metadata": {},
   "source": [
    "### Exemple 6 :\n",
    "\n",
    "Voici un pseudo code donnant l'état de l'eau suivant sa température :\n",
    "\n",
    "    Ecrire \"Entrez la température de l’eau :\"\n",
    "    Lire Temp\n",
    "    Si Temp < 0 Alors\n",
    "        Ecrire \"C’est de la glace\"\n",
    "    Sinon\n",
    "        Si Temp < 100 Alors\n",
    "        Ecrire \"C’est du liquide\"\n",
    "        Sinon\n",
    "            Ecrire \"C’est de la vapeur\"\n",
    "        Finsi\n",
    "    Finsi\n",
    "\n",
    "Le programme en Python est le suivant :"
   ]
  },
  {
   "cell_type": "code",
   "execution_count": null,
   "metadata": {
    "tags": []
   },
   "outputs": [],
   "source": [
    "temp = int(input(\"Entrez la température de l'eau\"))\n",
    "if temp<0 :\n",
    "    print(\"c'est de la glace\")\n",
    "else :\n",
    "    if temp<100 :\n",
    "        print(\"c'est du liquide\")\n",
    "    else :\n",
    "        print(\"c'est de la vapeur\")"
   ]
  },
  {
   "cell_type": "markdown",
   "metadata": {},
   "source": [
    "On peut également écrire l'algorithme sous cette forme :\n",
    "\n",
    "    Ecrire \"Entrez la température de l’eau :\"\n",
    "    Lire Temp\n",
    "    Si Temp < 0 Alors\n",
    "        Ecrire \"C’est de la glace\"\n",
    "    SinonSi Temp < 100 Alors\n",
    "        Ecrire \"C’est du liquide\"\n",
    "    Sinon\n",
    "        Ecrire \"C’est de la vapeur\"\n",
    "    Finsi\n",
    "\n",
    "Ce qui donne en Python le programme ci-dessous :"
   ]
  },
  {
   "cell_type": "code",
   "execution_count": null,
   "metadata": {
    "tags": []
   },
   "outputs": [],
   "source": [
    "temp = int(input(\"Entrez la température de l'eau\"))\n",
    "if temp<0 :\n",
    "    print(\"c'est de la glace\")\n",
    "elif temp<100 :\n",
    "    print(\"c'est du liquide\")\n",
    "else :\n",
    "    print(\"c'est de la vapeur\")"
   ]
  },
  {
   "cell_type": "markdown",
   "metadata": {},
   "source": []
  },
  {
   "cell_type": "markdown",
   "metadata": {},
   "source": [
    "### Exemple 7\n",
    "\n",
    "Une gérante de cantine demande combien de tickets le client veut acheter. Chaque ticket coûte 3,40 euro si le client a 12 ans ou moins de 12 ans, 4,20 euros si  le client a entre 13 et 17 ans, et 6,50 euros si le client a 18 ans ou plus. Complétez l'algorithme qui demande le nombre de tickets et l'âge à l’utilisateur, et l’informe ensuite du montant à payer"
   ]
  },
  {
   "cell_type": "code",
   "execution_count": null,
   "metadata": {},
   "outputs": [],
   "source": [
    "nombre = int(input(\"Combien de tickets voulez vous ?\"))\n",
    "age = input(\"Quel est votre âge ?\")\n",
    "if .....\n"
   ]
  },
  {
   "cell_type": "markdown",
   "metadata": {},
   "source": [
    "Tester votre algorithme"
   ]
  },
  {
   "cell_type": "markdown",
   "metadata": {},
   "source": [
    "## Fonctions\n",
    "\n",
    "En programmation, les fonctions sont très utiles pour réaliser plusieurs fois la même opération au sein d'un programme. Elles rendent également le code plus lisible et plus clair en le fractionnant en blocs logiques.\n",
    "\n",
    "Pour définir une fonction, Python utilise le mot-clé *def*. Si on souhaite que la fonction renvoie quelque chose, il faut utiliser le mot-clé *return*.\n",
    "\n",
    "### Exemple 8 :\n"
   ]
  },
  {
   "cell_type": "code",
   "execution_count": null,
   "metadata": {
    "tags": []
   },
   "outputs": [],
   "source": [
    "def carre(x):\n",
    "    return x**2\n",
    "\n",
    "print(carre(3))"
   ]
  },
  {
   "cell_type": "markdown",
   "metadata": {},
   "source": [
    "Vous pouvez tester alors d'autres valeurs :"
   ]
  },
  {
   "cell_type": "code",
   "execution_count": null,
   "metadata": {},
   "outputs": [],
   "source": [
    "carre(5)"
   ]
  },
  {
   "cell_type": "code",
   "execution_count": null,
   "metadata": {},
   "outputs": [],
   "source": [
    "carre(7)"
   ]
  },
  {
   "cell_type": "markdown",
   "metadata": {},
   "source": [
    "Une fonction peut avoir plusieurs arguments. Par exemple :\n",
    "\n",
    "### Exemple 9"
   ]
  },
  {
   "cell_type": "code",
   "execution_count": null,
   "metadata": {},
   "outputs": [],
   "source": [
    "def plusgrand(x,y):\n",
    "    if x>y:\n",
    "        return x\n",
    "    else :\n",
    "        return y"
   ]
  },
  {
   "cell_type": "code",
   "execution_count": null,
   "metadata": {},
   "outputs": [],
   "source": [
    "plusgrand(2,3)"
   ]
  },
  {
   "cell_type": "code",
   "execution_count": null,
   "metadata": {},
   "outputs": [],
   "source": [
    "plusgrand(5,1)"
   ]
  },
  {
   "cell_type": "markdown",
   "metadata": {},
   "source": [
    "### Exemple 10\n",
    "\n",
    "Un magasin de reprographie propose un tarif dégressif (c'est à dire que plus on commande de photocopies, plus le prix unitaire est faible). \n",
    "Les 20 premières photocopies sont facturées à 10 centimes et les suivantes\n",
    "à 8 centimes."
   ]
  },
  {
   "cell_type": "markdown",
   "metadata": {},
   "source": [
    "Calculer \"à la main\" le coût en euros de 15 photocopies."
   ]
  },
  {
   "cell_type": "markdown",
   "metadata": {},
   "source": [
    "Réponse : "
   ]
  },
  {
   "cell_type": "markdown",
   "metadata": {},
   "source": [
    "Calculer \"à la main\" le coût en euros de 30 photocopies."
   ]
  },
  {
   "cell_type": "markdown",
   "metadata": {},
   "source": [
    "Réponse : "
   ]
  },
  {
   "cell_type": "markdown",
   "metadata": {},
   "source": [
    "Compléter l'algorithme suivant qui permet d'afficher le prix de *n* photocopies"
   ]
  },
  {
   "cell_type": "code",
   "execution_count": null,
   "metadata": {},
   "outputs": [],
   "source": [
    "def tarif(n):"
   ]
  },
  {
   "cell_type": "markdown",
   "metadata": {},
   "source": [
    "Tester votre algorithme avec 15"
   ]
  },
  {
   "cell_type": "code",
   "execution_count": null,
   "metadata": {},
   "outputs": [],
   "source": []
  },
  {
   "cell_type": "markdown",
   "metadata": {},
   "source": [
    "Tester votre algorithme avec 30"
   ]
  },
  {
   "cell_type": "code",
   "execution_count": null,
   "metadata": {},
   "outputs": [],
   "source": []
  },
  {
   "cell_type": "markdown",
   "metadata": {},
   "source": [
    "### Exemple 11\n",
    "\n",
    "L'IMC (Indice de masse corporelle) permet de determiner la corpulence d'une personne. Il se calcule en fonction de la taille (en m) et du poids (en kg) d'une personne par la formule :\n",
    "$$IMC=\\frac{\\text{poids}}{\\text{taille}^2}$$\n",
    "\n",
    "Par exemple, quel est l'IMC d'une personne mesurant 1,70 m pour un poids de 60 kg ?"
   ]
  },
  {
   "cell_type": "markdown",
   "metadata": {},
   "source": [
    "Réponse :"
   ]
  },
  {
   "cell_type": "markdown",
   "metadata": {},
   "source": [
    "Ecrire un algorithme qui renvoie l'IMC d'une personne en fonction de sa taille et de son poids. On rappelle que le carré se calcule avec **2"
   ]
  },
  {
   "cell_type": "code",
   "execution_count": null,
   "metadata": {},
   "outputs": [],
   "source": [
    "def IMC(poids,taille):"
   ]
  },
  {
   "cell_type": "markdown",
   "metadata": {},
   "source": [
    "Tester votre algorithme pour une personne mesurant 1,70 m pour un poids de 60 kg"
   ]
  },
  {
   "cell_type": "code",
   "execution_count": null,
   "metadata": {},
   "outputs": [],
   "source": []
  }
 ]
}